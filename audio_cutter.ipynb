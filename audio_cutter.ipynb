{
 "cells": [
  {
   "cell_type": "code",
   "execution_count": 1,
   "metadata": {
    "collapsed": false
   },
   "outputs": [
    {
     "name": "stderr",
     "output_type": "stream",
     "text": [
      "/Users/sacheendra/anaconda/envs/multimedia_search/lib/python2.7/site-packages/statsmodels/compat/pandas.py:56: FutureWarning: The pandas.core.datetools module is deprecated and will be removed in a future version. Please use the pandas.tseries module instead.\n",
      "  from pandas.core import datetools\n"
     ]
    }
   ],
   "source": [
    "from pydub import AudioSegment\n",
    "from pydub.utils import get_array_type\n",
    "from plotnine import *\n",
    "import numpy as np\n",
    "import pandas as pd"
   ]
  },
  {
   "cell_type": "code",
   "execution_count": 2,
   "metadata": {
    "collapsed": true
   },
   "outputs": [],
   "source": [
    "filePath = \"EUDC 2015 Round 6 A.mp3\""
   ]
  },
  {
   "cell_type": "code",
   "execution_count": null,
   "metadata": {
    "collapsed": false
   },
   "outputs": [],
   "source": [
    "sound = AudioSegment.from_mp3(filePath)\n",
    "left = sound.split_to_mono()[0]\n",
    "\n",
    "left.export(\"test.wav\", format=\"wav\")"
   ]
  },
  {
   "cell_type": "code",
   "execution_count": null,
   "metadata": {
    "collapsed": false
   },
   "outputs": [],
   "source": [
    "def findInterruptions(speech, threshold):\n",
    "    # Will have tuples of the format (start location in array, length)\n",
    "    interruptions = []\n",
    "    isInterruption = False\n",
    "    interruptionInstance = (0, 0)\n",
    "    for i in range(0, len(speech)):\n",
    "        speechAmplitude = speech[i]\n",
    "        if not isInterruption:\n",
    "            if abs(speechAmplitude) < threshold:\n",
    "                isInterruption = True\n",
    "                interruptionInstance = (i, 0)\n",
    "            else:\n",
    "                continue\n",
    "        else:\n",
    "            if abs(speechAmplitude) < threshold:\n",
    "                continue\n",
    "            else:\n",
    "                isInterruption = False\n",
    "                interruptionInstance = (interruptionInstance[0], i - interruptionInstance[0])\n",
    "                interruptions.append(interruptionInstance)\n",
    "                interruptionInstance = (0, 0)"
   ]
  },
  {
   "cell_type": "code",
   "execution_count": null,
   "metadata": {
    "collapsed": false
   },
   "outputs": [],
   "source": [
    "x = findInterruptions(debatesRead[0], 30)"
   ]
  },
  {
   "cell_type": "code",
   "execution_count": 6,
   "metadata": {
    "collapsed": false
   },
   "outputs": [],
   "source": [
    "from vad import VoiceActivityDetector\n",
    "\n",
    "v = VoiceActivityDetector(\"test.wav\")\n",
    "# v.plot_detected_speech_regions()"
   ]
  },
  {
   "cell_type": "code",
   "execution_count": 7,
   "metadata": {
    "collapsed": false
   },
   "outputs": [
    {
     "name": "stderr",
     "output_type": "stream",
     "text": [
      "vad.py:149: RuntimeWarning: invalid value encountered in double_scalars\n",
      "  speech_ratio = sum_voice_energy/sum_full_energy\n"
     ]
    }
   ],
   "source": [
    "detected_windows = v.detect_speech()"
   ]
  },
  {
   "cell_type": "code",
   "execution_count": 8,
   "metadata": {
    "collapsed": true
   },
   "outputs": [],
   "source": [
    "def zero_runs(a):\n",
    "    # Create an array that is 1 where a is 0, and pad each end with an extra 0.\n",
    "    iszero = np.concatenate(([0], np.equal(a, 0).view(np.int8), [0]))\n",
    "    absdiff = np.abs(np.diff(iszero))\n",
    "    # Runs start and end where absdiff is 1.\n",
    "    ranges = np.where(absdiff == 1)[0].reshape(-1, 2)\n",
    "    return ranges"
   ]
  },
  {
   "cell_type": "code",
   "execution_count": 9,
   "metadata": {
    "collapsed": false
   },
   "outputs": [],
   "source": [
    "zero_segments = zero_runs(detected_windows[:, 1])"
   ]
  },
  {
   "cell_type": "code",
   "execution_count": 10,
   "metadata": {
    "collapsed": false
   },
   "outputs": [],
   "source": [
    "zero_segment_lengths = zero_segments[:, 1] - zero_segments[:, 0]"
   ]
  },
  {
   "cell_type": "code",
   "execution_count": 18,
   "metadata": {
    "collapsed": false
   },
   "outputs": [],
   "source": [
    "gps = pd.DataFrame(zero_segment_lengths, columns=[\"seglen\"]).groupby(by=\"seglen\").seglen.count()"
   ]
  },
  {
   "cell_type": "code",
   "execution_count": 22,
   "metadata": {
    "collapsed": false
   },
   "outputs": [
    {
     "data": {
      "text/plain": [
       "seglen\n",
       "87       2\n",
       "88       3\n",
       "89       1\n",
       "90       3\n",
       "91       3\n",
       "92       2\n",
       "94       6\n",
       "95       5\n",
       "96       4\n",
       "97       3\n",
       "98       2\n",
       "99       4\n",
       "100      4\n",
       "101      1\n",
       "102      2\n",
       "103      1\n",
       "104      1\n",
       "105      2\n",
       "107      1\n",
       "108      1\n",
       "109      1\n",
       "112      1\n",
       "113      1\n",
       "114      2\n",
       "115      1\n",
       "116      1\n",
       "117      1\n",
       "118      1\n",
       "121      1\n",
       "124      1\n",
       "126      1\n",
       "129      2\n",
       "132      1\n",
       "133      1\n",
       "138      1\n",
       "146      1\n",
       "149      1\n",
       "150      1\n",
       "151      1\n",
       "157      1\n",
       "159      1\n",
       "170      1\n",
       "196      1\n",
       "223      1\n",
       "239      1\n",
       "247      1\n",
       "295      1\n",
       "302      1\n",
       "2060     1\n",
       "99248    1\n",
       "Name: seglen, dtype: int64"
      ]
     },
     "execution_count": 22,
     "metadata": {},
     "output_type": "execute_result"
    }
   ],
   "source": [
    "gps[-50:]"
   ]
  }
 ],
 "metadata": {
  "kernelspec": {
   "display_name": "Python [conda env:multimedia_search]",
   "language": "python",
   "name": "conda-env-multimedia_search-py"
  },
  "language_info": {
   "codemirror_mode": {
    "name": "ipython",
    "version": 2
   },
   "file_extension": ".py",
   "mimetype": "text/x-python",
   "name": "python",
   "nbconvert_exporter": "python",
   "pygments_lexer": "ipython2",
   "version": "2.7.13"
  }
 },
 "nbformat": 4,
 "nbformat_minor": 2
}
