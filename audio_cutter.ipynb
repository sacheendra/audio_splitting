{
 "cells": [
  {
   "cell_type": "code",
   "execution_count": 43,
   "metadata": {
    "collapsed": false
   },
   "outputs": [],
   "source": [
    "from pydub import AudioSegment\n",
    "from pydub.utils import get_array_type\n",
    "from plotnine import *\n",
    "import numpy as np\n",
    "import pandas as pd"
   ]
  },
  {
   "cell_type": "code",
   "execution_count": 2,
   "metadata": {
    "collapsed": true
   },
   "outputs": [],
   "source": [
    "filesToRead = [\n",
    "    \"EUDC 2015 Round 6 A.mp3\"\n",
    "]"
   ]
  },
  {
   "cell_type": "code",
   "execution_count": 27,
   "metadata": {
    "collapsed": false
   },
   "outputs": [],
   "source": [
    "debatesRead = []\n",
    "for filePath in filesToRead:\n",
    "    sound = AudioSegment.from_mp3(filePath)\n",
    "    left = sound.split_to_mono()[0]\n",
    "    \n",
    "    # int16 as the audio was recorded with 16-bit precision. \n",
    "    numeric_array = np.fromstring(left._data, np.int16)\n",
    "    debatesRead.append(numeric_array)"
   ]
  },
  {
   "cell_type": "code",
   "execution_count": 53,
   "metadata": {
    "collapsed": false
   },
   "outputs": [],
   "source": [
    "def findInterruptions(speech, threshold):\n",
    "    # Will have tuples of the format (start location in array, length)\n",
    "    interruptions = []\n",
    "    isInterruption = False\n",
    "    interruptionInstance = (0, 0)\n",
    "    for i in range(0, len(speech)):\n",
    "        speechAmplitude = speech[i]\n",
    "        if not isInterruption:\n",
    "            if abs(speechAmplitude) < threshold:\n",
    "                isInterruption = True\n",
    "                interruptionInstance = (i, 0)\n",
    "            else:\n",
    "                continue\n",
    "        else:\n",
    "            if abs(speechAmplitude) < threshold:\n",
    "                continue\n",
    "            else:\n",
    "                isInterruption = False\n",
    "                interruptionInstance = (interruptionInstance[0], i - interruptionInstance[0])\n",
    "                interruptions.append(interruptionInstance)\n",
    "                interruptionInstance = (0, 0)"
   ]
  },
  {
   "cell_type": "code",
   "execution_count": 54,
   "metadata": {
    "collapsed": false
   },
   "outputs": [],
   "source": [
    "x = findInterruptions(debatesRead[0], 30)"
   ]
  }
 ],
 "metadata": {
  "kernelspec": {
   "display_name": "Python [conda env:multimedia_search]",
   "language": "python",
   "name": "conda-env-multimedia_search-py"
  },
  "language_info": {
   "codemirror_mode": {
    "name": "ipython",
    "version": 2
   },
   "file_extension": ".py",
   "mimetype": "text/x-python",
   "name": "python",
   "nbconvert_exporter": "python",
   "pygments_lexer": "ipython2",
   "version": "2.7.13"
  }
 },
 "nbformat": 4,
 "nbformat_minor": 2
}
