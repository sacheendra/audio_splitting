{
 "cells": [
  {
   "cell_type": "code",
   "execution_count": 1,
   "metadata": {
    "collapsed": false
   },
   "outputs": [],
   "source": [
    "from pydub import AudioSegment\n",
    "import numpy as np\n",
    "from scipy import signal\n",
    "from matplotlib import pyplot as plt"
   ]
  },
  {
   "cell_type": "code",
   "execution_count": 2,
   "metadata": {
    "collapsed": true
   },
   "outputs": [],
   "source": [
    "filePath = \"EUDC 2015 Round 6 A.mp3\""
   ]
  },
  {
   "cell_type": "code",
   "execution_count": 18,
   "metadata": {
    "collapsed": false
   },
   "outputs": [],
   "source": [
    "originalAudio = AudioSegment.from_mp3(filePath)\n",
    "\n",
    "frameRate = originalAudio.frame_rate\n",
    "\n",
    "leftChannel = originalAudio.split_to_mono()[0]\n",
    "rightChannel = originalAudio.split_to_mono()[1]\n",
    "mergedAudio = leftChannel.overlay(rightChannel)"
   ]
  },
  {
   "cell_type": "code",
   "execution_count": 44,
   "metadata": {
    "collapsed": false
   },
   "outputs": [],
   "source": [
    "ARRAY_TYPES = {\n",
    "    8:  np.int8,\n",
    "    16: np.int16,\n",
    "    32: np.int32,\n",
    "    64: np.int64\n",
    "}\n",
    "\n",
    "# Each byte is 8 bits wide. Sample width in bytes.\n",
    "quantizationLevel = ARRAY_TYPES[originalAudio.sample_width * 8]\n",
    "\n",
    "# Converting audio into a format processable using numpy.\n",
    "singleChannelAudio = np.frombuffer(mergedAudio.raw_data, dtype=quantizationLevel)"
   ]
  },
  {
   "cell_type": "code",
   "execution_count": 45,
   "metadata": {
    "collapsed": false
   },
   "outputs": [
    {
     "data": {
      "image/png": "[encoded data removed]",
      "text/plain": [
       "<Figure size 432x288 with 1 Axes>"
      ]
     },
     "metadata": {},
     "output_type": "display_data"
    }
   ],
   "source": [
    "# Windows of 10 seconds each.\n",
    "windowWidth = frameRate*10\n",
    "windowOverlap = int(windowWidth/10.0)\n",
    "\n",
    "trackedFrequencies, centresOfWindows, energyPerFrequencyPerWindow = \\\n",
    "                signal.spectrogram(singleChannelAudio,\n",
    "                                    frameRate,\n",
    "                                    window=('tukey', 0.25),\n",
    "                                    nperseg=windowWidth,\n",
    "                                    noverlap=windowOverlap,\n",
    "                                    scaling='spectrum')\n",
    "    \n",
    "numberOfWindows = centresOfWindows.shape[0]\n",
    "\n",
    "# Extract indices of frequencies between 40Hz and 4000Hz.\n",
    "indexOf40 = 0\n",
    "indexOf4000 = 0\n",
    "for (i, freq) in enumerate(trackedFrequencies):\n",
    "    if freq < 40:\n",
    "        indexOf40 = i + 1\n",
    "    if freq < 4000:\n",
    "        indexOf4000 = i + 1\n",
    "\n",
    "# Calculating the energy in voice frequencies and all frequencies of windows.\n",
    "# 0: energy in voice frequencies; 1: total energy, 2: fraction of 1 in 2\n",
    "energiesOfWindows = np.zeros(shape=(numberOfWindows, 3))\n",
    "for w in range(numberOfWindows):\n",
    "    energyInVoiceBand = energyPerFrequencyPerWindow[np.arange(indexOf40, indexOf4000, dtype=np.int), w].sum()\n",
    "    totalEnergy = energyPerFrequencyPerWindow [:, w].sum()\n",
    "    energiesOfWindows[w, 0] = np.power(energyInVoiceBand, 2)\n",
    "    energiesOfWindows[w, 1] = np.power(totalEnergy, 2)\n",
    "    energiesOfWindows[w, 2] = energiesOfWindows[w, 0] / energiesOfWindows[w, 1]\n",
    "\n",
    "plt.plot(np.arange(0, numberOfWindows), energiesOfWindows[:, 2])\n",
    "plt.show()"
   ]
  },
  {
   "cell_type": "code",
   "execution_count": 22,
   "metadata": {
    "collapsed": false
   },
   "outputs": [],
   "source": [
    "# Fraction of energy in voice band for a window to be identified as containing voice.\n",
    "# This basically means that a whole 10 second period (or any other window size) has\n",
    "# less than 60% voice.\n",
    "voiceThreshold = 0.6\n",
    "\n",
    "# true: voice; false: no voice\n",
    "flaggedWindows = energiesOfWindows[:, 2] > 0.6\n",
    "# Centres of windows are in seconds. Converting them to array indices.\n",
    "centreIndicesOfWindows = centresOfWindows * frameRate\n",
    "\n",
    "# Setting all indices of a window to the corresponding flag.\n",
    "flaggedIndices = np.full((singleChannelAudio.shape[0], 1), True)\n",
    "for (i, index) in enumerate(centreIndicesOfWindows):\n",
    "    windowStartIndex = int(index - (windowWidth/2))\n",
    "    windowEndIndex = int(index + (windowWidth/2))\n",
    "    flaggedIndices[windowStartIndex:windowEndIndex] = flaggedWindows[i]"
   ]
  },
  {
   "cell_type": "code",
   "execution_count": 27,
   "metadata": {
    "collapsed": false
   },
   "outputs": [],
   "source": [
    "# Reshape is necessary to fix 2nd dimension for indexing.\n",
    "cutAudio = singleChannelAudio.reshape((-1, 1))[flaggedIndices]"
   ]
  },
  {
   "cell_type": "code",
   "execution_count": 61,
   "metadata": {
    "collapsed": false
   },
   "outputs": [
    {
     "data": {
      "text/plain": [
       "<open file 'shortenedEUDC 2015 Round 6 A.mp3', mode 'wb+' at 0x1125eb8a0>"
      ]
     },
     "execution_count": 61,
     "metadata": {},
     "output_type": "execute_result"
    }
   ],
   "source": [
    "AudioSegment(\n",
    "    # raw audio data (bytes)\n",
    "    data=cutAudio.tobytes(),\n",
    "\n",
    "    sample_width=np.iinfo(quantizationLevel) / 8,\n",
    "\n",
    "    frame_rate=frameRate,\n",
    "\n",
    "    channels=1\n",
    ").export(\"shortened\"+filePath, format=\"mp3\")"
   ]
  }
 ],
 "metadata": {
  "kernelspec": {
   "display_name": "Python [conda env:multimedia_search]",
   "language": "python",
   "name": "conda-env-multimedia_search-py"
  },
  "language_info": {
   "codemirror_mode": {
    "name": "ipython",
    "version": 2
   },
   "file_extension": ".py",
   "mimetype": "text/x-python",
   "name": "python",
   "nbconvert_exporter": "python",
   "pygments_lexer": "ipython2",
   "version": "2.7.13"
  }
 },
 "nbformat": 4,
 "nbformat_minor": 2
}
